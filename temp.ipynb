{
 "cells": [
  {
   "cell_type": "markdown",
   "source": [],
   "metadata": {}
  },
  {
   "cell_type": "code",
   "execution_count": 13,
   "source": [
    "import pandas as pd\n",
    "import numpy as np\n",
    "from sklearn.feature_extraction.text import CountVectorizer\n",
    "from sklearn.metrics.pairwise import cosine_similarity\n",
    "from sklearn.metrics.pairwise import euclidean_distances\n",
    "#read data file\n",
    "df = pd.read_csv('model/features.csv')\n",
    "#generalize data\n",
    "#train features\n",
    "cv = CountVectorizer()\n",
    "count_matrix = cv.fit_transform(df['overview'])\n",
    "clean_df  = pd.read_csv('model/titles.csv')\n",
    "#define function\n",
    "def cosinesim(name):\n",
    "    sim = cosine_similarity(count_matrix)\n",
    "    name = name.lower()\n",
    "    df['title']=df['title'].str.lower()\n",
    "    if name not in df['title'].unique():\n",
    "        return ('Try Aboslute Spelling or it may not be in our database')\n",
    "    else:\n",
    "        i = df.loc[df['title']==name].index[0]\n",
    "        mov_id = list(enumerate(sim[i]))\n",
    "        mov_id = sorted(mov_id,key = lambda x:x[1],reverse=True)\n",
    "        mov_id = mov_id[1:11]\n",
    "        rec_mov = []\n",
    "        for i in range(len(mov_id)):\n",
    "            a = mov_id[i][0]\n",
    "            rec_mov.append(clean_df['title'][a])\n",
    "        return rec_mov\n",
    "def euclidsim(name):\n",
    "    sim = euclidean_distances(count_matrix)\n",
    "    name = name.lower()\n",
    "    df['title']=df['title'].str.lower()\n",
    "    if name not in df['title'].unique():\n",
    "        return ('Try Aboslute Spelling or it may not be in our database')\n",
    "    else:\n",
    "        i = df.loc[df['title']==name].index[0]\n",
    "        mov_id = list(enumerate(sim[i]))\n",
    "        mov_id = sorted(mov_id,key = lambda x:x[1],reverse=False)\n",
    "        mov_id = mov_id[1:11]\n",
    "        rec_mov = []\n",
    "        for i in range(len(mov_id)):\n",
    "            a = mov_id[i][0]\n",
    "            rec_mov.append(clean_df['title'][a])\n",
    "        return rec_mov\n",
    "print(cosinesim(\"toy story\"))"
   ],
   "outputs": [
    {
     "output_type": "stream",
     "name": "stdout",
     "text": [
      "['The Helix... Loaded', 'Chairman of the Board', 'Chiamatemi Francesco - Il Papa della gente', 'Food Chains', 'Khiladi 786', 'Scott Walker: 30 Century Man', 'To Be Frank, Sinatra at 100', 'Anomalisa', 'Invasion U.S.A.', 'Lovely, Still']\n"
     ]
    }
   ],
   "metadata": {}
  }
 ],
 "metadata": {
  "orig_nbformat": 4,
  "language_info": {
   "name": "python",
   "version": "3.8.8",
   "mimetype": "text/x-python",
   "codemirror_mode": {
    "name": "ipython",
    "version": 3
   },
   "pygments_lexer": "ipython3",
   "nbconvert_exporter": "python",
   "file_extension": ".py"
  },
  "kernelspec": {
   "name": "python3",
   "display_name": "Python 3.8.8 64-bit ('base': conda)"
  },
  "interpreter": {
   "hash": "6125884f83fa56dabc8304d93f457fb1a717c8334e706a6735d7cfadb99ea681"
  }
 },
 "nbformat": 4,
 "nbformat_minor": 2
}